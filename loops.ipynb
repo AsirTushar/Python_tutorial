{
 "cells": [
  {
   "cell_type": "markdown",
   "id": "011dde12",
   "metadata": {},
   "source": [
    "## For Loops"
   ]
  },
  {
   "cell_type": "code",
   "execution_count": null,
   "id": "0d2083cc",
   "metadata": {},
   "outputs": [],
   "source": [
    "for n in range(5):\n",
    "    print(n)"
   ]
  },
  {
   "cell_type": "code",
   "execution_count": null,
   "id": "a2dbc68e",
   "metadata": {},
   "outputs": [],
   "source": [
    "for word in ('way','to','go!'):\n",
    "    print(word)"
   ]
  },
  {
   "cell_type": "code",
   "execution_count": null,
   "id": "13a653d8",
   "metadata": {},
   "outputs": [],
   "source": [
    "for n, item in enumerate(['blue', 'green', 'yellow']):\n",
    "    print(item[n])"
   ]
  },
  {
   "cell_type": "code",
   "execution_count": null,
   "id": "6fb05fb5",
   "metadata": {},
   "outputs": [],
   "source": [
    "L = [2,5,6,7,9]\n",
    "for x in L: print(x)"
   ]
  },
  {
   "cell_type": "markdown",
   "id": "cddbc0ba",
   "metadata": {},
   "source": [
    "## List Comprehension"
   ]
  },
  {
   "cell_type": "code",
   "execution_count": null,
   "id": "f6b98abd",
   "metadata": {},
   "outputs": [],
   "source": [
    "print([x for x in range(10)])"
   ]
  },
  {
   "cell_type": "code",
   "execution_count": null,
   "id": "8e82b8ea",
   "metadata": {},
   "outputs": [],
   "source": [
    "# Single condition\n",
    "print([num for num in range(10) if num > 5])"
   ]
  },
  {
   "cell_type": "code",
   "execution_count": null,
   "id": "2a3ec434",
   "metadata": {},
   "outputs": [],
   "source": [
    "# Can use boolean operators for multiple conditions\n",
    "print([num for num in range(10) if 5 < num < 9])"
   ]
  },
  {
   "cell_type": "code",
   "execution_count": null,
   "id": "a969cb16",
   "metadata": {},
   "outputs": [],
   "source": [
    "# Double loop\n",
    "mylist = [(1,2,5), (2,4,6), (3,8,2)]\n",
    "print([n for tup in mylist for n in tup])"
   ]
  },
  {
   "cell_type": "code",
   "execution_count": null,
   "id": "f038acae",
   "metadata": {},
   "outputs": [],
   "source": [
    "# Built-in function zip\n",
    "print([val for val in zip(range(5),range(1,6))])"
   ]
  },
  {
   "cell_type": "code",
   "execution_count": null,
   "id": "88f71b08",
   "metadata": {},
   "outputs": [],
   "source": [
    "# Keyword in can also be used for inclusion\n",
    "val = 5\n",
    "print(val in [3,6,8])"
   ]
  },
  {
   "cell_type": "markdown",
   "id": "93a024d0",
   "metadata": {},
   "source": [
    "## While Loops"
   ]
  },
  {
   "cell_type": "code",
   "execution_count": null,
   "id": "5894d423",
   "metadata": {},
   "outputs": [],
   "source": [
    "x = 0\n",
    "while x <= 4:\n",
    "    print(x)\n",
    "    x += 1\n",
    "\n",
    "# Note that a while loop is often used to check for a convergence condition in numerical code"
   ]
  },
  {
   "cell_type": "markdown",
   "id": "2e51a5de",
   "metadata": {},
   "source": [
    "Discuss:\n",
    "- break statement\n",
    "- continue statement\n",
    "- nested loops"
   ]
  },
  {
   "cell_type": "code",
   "execution_count": null,
   "id": "11ff4599",
   "metadata": {},
   "outputs": [],
   "source": []
  }
 ],
 "metadata": {
  "kernelspec": {
   "display_name": "Python 3 (ipykernel)",
   "language": "python",
   "name": "python3"
  },
  "language_info": {
   "codemirror_mode": {
    "name": "ipython",
    "version": 3
   },
   "file_extension": ".py",
   "mimetype": "text/x-python",
   "name": "python",
   "nbconvert_exporter": "python",
   "pygments_lexer": "ipython3",
   "version": "3.10.11"
  }
 },
 "nbformat": 4,
 "nbformat_minor": 5
}
